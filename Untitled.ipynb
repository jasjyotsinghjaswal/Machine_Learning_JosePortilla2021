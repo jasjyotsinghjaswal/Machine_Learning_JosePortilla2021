{
 "cells": [
  {
   "cell_type": "code",
   "execution_count": null,
   "id": "2f12ebb3-54a2-4907-9b80-59a8b24bf495",
   "metadata": {},
   "outputs": [],
   "source": [
    "x=23"
   ]
  },
  {
   "cell_type": "code",
   "execution_count": null,
   "id": "faaba4b7-4d3a-43e3-9341-ee0343faad3c",
   "metadata": {},
   "outputs": [],
   "source": []
  }
 ],
 "metadata": {
  "kernelspec": {
   "display_name": "spylon-kernel",
   "language": "scala",
   "name": "spylon-kernel"
  },
  "language_info": {
   "name": ""
  }
 },
 "nbformat": 4,
 "nbformat_minor": 5
}
