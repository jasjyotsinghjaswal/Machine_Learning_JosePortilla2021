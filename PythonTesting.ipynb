{
 "cells": [
  {
   "cell_type": "markdown",
   "id": "1bea9ed8-2e59-401f-a191-946e64528678",
   "metadata": {},
   "source": [
    "# Projecting a Numpy Array INto Another Numpy Array"
   ]
  },
  {
   "cell_type": "code",
   "execution_count": 7,
   "id": "fef35b69-f468-43eb-b7f3-62fa17c011e7",
   "metadata": {},
   "outputs": [],
   "source": [
    "import numpy as np"
   ]
  },
  {
   "cell_type": "code",
   "execution_count": 8,
   "id": "7508230c-14dd-4115-88a9-c049bb1bc06e",
   "metadata": {},
   "outputs": [],
   "source": [
    "lstA= np.array([100,50,200])"
   ]
  },
  {
   "cell_type": "code",
   "execution_count": 9,
   "id": "5fa98527-1af1-48db-9c9e-5fd3c749c177",
   "metadata": {},
   "outputs": [
    {
     "data": {
      "text/plain": [
       "array([100,  50, 200])"
      ]
     },
     "execution_count": 9,
     "metadata": {},
     "output_type": "execute_result"
    }
   ],
   "source": [
    "lstA"
   ]
  },
  {
   "cell_type": "code",
   "execution_count": 10,
   "id": "443399bf-3959-4330-89b1-ad80a2436753",
   "metadata": {},
   "outputs": [],
   "source": [
    "lstB = lstA*3 +1"
   ]
  },
  {
   "cell_type": "code",
   "execution_count": 11,
   "id": "9dd5add3-2214-4667-9c23-34334cda55ea",
   "metadata": {},
   "outputs": [
    {
     "data": {
      "text/plain": [
       "array([301, 151, 601])"
      ]
     },
     "execution_count": 11,
     "metadata": {},
     "output_type": "execute_result"
    }
   ],
   "source": [
    "lstB"
   ]
  },
  {
   "cell_type": "code",
   "execution_count": null,
   "id": "b99dd2a0-ba77-46e0-9fc8-8148d39a1597",
   "metadata": {},
   "outputs": [],
   "source": []
  }
 ],
 "metadata": {
  "kernelspec": {
   "display_name": "Python 3 (ipykernel)",
   "language": "python",
   "name": "python3"
  },
  "language_info": {
   "codemirror_mode": {
    "name": "ipython",
    "version": 3
   },
   "file_extension": ".py",
   "mimetype": "text/x-python",
   "name": "python",
   "nbconvert_exporter": "python",
   "pygments_lexer": "ipython3",
   "version": "3.9.7"
  }
 },
 "nbformat": 4,
 "nbformat_minor": 5
}
